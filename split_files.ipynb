{
 "cells": [
  {
   "cell_type": "code",
   "execution_count": 1,
   "metadata": {},
   "outputs": [],
   "source": [
    "C_FOLDER = '/home/sage/ml_playground/catsvsdogs/PetImages/Cat'\n",
    "D_FOLDER = '/home/sage/ml_playground/catsvsdogs/PetImages/Dog'\n",
    "\n",
    "C_V_FOLDER = '/home/sage/data/catsvsdogs/val/cat'\n",
    "D_V_FOLDER = '/home/sage/data/catsvsdogs/val/dog'\n",
    "\n",
    "C_T_FOLDER = '/home/sage/data/catsvsdogs/train/cat'\n",
    "D_T_FOLDER = '/home/sage/data/catsvsdogs/train/dog'\n",
    "\n",
    "SPLIT_PCT = 0.80\n",
    "\n",
    "for f in [C_V_FOLDER, D_V_FOLDER, C_T_FOLDER, D_T_FOLDER]:\n",
    "    ! mkdir -p {f}"
   ]
  },
  {
   "cell_type": "code",
   "execution_count": 2,
   "metadata": {},
   "outputs": [],
   "source": [
    "from glob import glob\n",
    "from shutil import copy\n",
    "from random import shuffle"
   ]
  },
  {
   "cell_type": "code",
   "execution_count": 3,
   "metadata": {},
   "outputs": [],
   "source": [
    "cats_files = glob(C_FOLDER + '/*.jpg')\n",
    "dogs_files = glob(D_FOLDER + '/*.jpg')"
   ]
  },
  {
   "cell_type": "code",
   "execution_count": 4,
   "metadata": {},
   "outputs": [],
   "source": [
    "shuffle(cats_files)\n",
    "shuffle(dogs_files)\n",
    "\n",
    "cats_files = cats_files[:3500]\n",
    "dogs_files = dogs_files[:3500]"
   ]
  },
  {
   "cell_type": "code",
   "execution_count": 5,
   "metadata": {},
   "outputs": [],
   "source": [
    "split_index = int(SPLIT_PCT * len(cats_files))\n",
    "\n",
    "cats_v = cats_files[split_index:]\n",
    "cats_t = cats_files[:split_index]\n",
    "\n",
    "split_index = int(SPLIT_PCT * len(dogs_files))\n",
    "\n",
    "dogs_v = dogs_files[split_index:]\n",
    "dogs_t = dogs_files[:split_index]"
   ]
  },
  {
   "cell_type": "code",
   "execution_count": 6,
   "metadata": {},
   "outputs": [],
   "source": [
    "for img in cats_v:\n",
    "    copy(img, C_V_FOLDER)\n",
    "for img in cats_t:\n",
    "    copy(img, C_T_FOLDER)\n",
    "for img in dogs_v:\n",
    "    copy(img, D_V_FOLDER)\n",
    "for img in dogs_t:\n",
    "    copy(img, D_T_FOLDER)"
   ]
  },
  {
   "cell_type": "code",
   "execution_count": 7,
   "metadata": {},
   "outputs": [
    {
     "name": "stdout",
     "output_type": "stream",
     "text": [
      "validation, cats: 700\n",
      "training, cats: 2800\n",
      "validation, dogs: 700\n",
      "training, dogs: 2800\n",
      "val size: 1400\n",
      "training size: 5600\n",
      "True\n",
      "True\n"
     ]
    }
   ],
   "source": [
    "print('validation, cats:', len(cats_v))\n",
    "print('training, cats:', len(cats_t))\n",
    "print('validation, dogs:', len(dogs_v))\n",
    "print('training, dogs:', len(dogs_t))\n",
    "print('val size:', len(dogs_v) +  len(cats_v))\n",
    "print('training size:', len(dogs_t) +  len(cats_t))\n",
    "print(len(cats_files) == len(cats_v) + len(cats_t))\n",
    "print(len(dogs_files) == len(dogs_v) + len(dogs_t))"
   ]
  }
 ],
 "metadata": {
  "kernelspec": {
   "display_name": "Python 3",
   "language": "python",
   "name": "python3"
  },
  "language_info": {
   "codemirror_mode": {
    "name": "ipython",
    "version": 3
   },
   "file_extension": ".py",
   "mimetype": "text/x-python",
   "name": "python",
   "nbconvert_exporter": "python",
   "pygments_lexer": "ipython3",
   "version": "3.5.2"
  }
 },
 "nbformat": 4,
 "nbformat_minor": 2
}
