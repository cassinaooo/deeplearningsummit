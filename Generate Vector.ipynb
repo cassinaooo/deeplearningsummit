{
 "cells": [
  {
   "cell_type": "code",
   "execution_count": 1,
   "metadata": {},
   "outputs": [
    {
     "name": "stderr",
     "output_type": "stream",
     "text": [
      "Using TensorFlow backend.\n"
     ]
    }
   ],
   "source": [
    "%matplotlib inline\n",
    "\n",
    "from keras.models import load_model\n",
    "from keras.models import model_from_json\n",
    "from keras.models import Model\n",
    "from keras.preprocessing.image import ImageDataGenerator\n",
    "import numpy as np "
   ]
  },
  {
   "cell_type": "code",
   "execution_count": 2,
   "metadata": {},
   "outputs": [
    {
     "name": "stdout",
     "output_type": "stream",
     "text": [
      "WARNING:tensorflow:From /home/sage/envs/playground/lib/python3.5/site-packages/keras/backend/tensorflow_backend.py:1290: calling reduce_mean (from tensorflow.python.ops.math_ops) with keep_dims is deprecated and will be removed in a future version.\n",
      "Instructions for updating:\n",
      "keep_dims is deprecated, use keepdims instead\n"
     ]
    }
   ],
   "source": [
    "model_location = '/home/sage/ml_playground/catsvsdogs/trained/keras/vgg16_cat_dog_retrained.json'\n",
    "weights_location = '/home/sage/ml_playground/catsvsdogs/trained/keras/vgg16_cat_dog_retrained.h5'\n",
    "\n",
    "with open(model_location, 'r') as myfile:\n",
    "    model_json = myfile.read()\n",
    "\n",
    "model = model_from_json(model_json)\n",
    "model.load_weights(weights_location)\n",
    "\n",
    "headless_model = Model(inputs=model.input, outputs=model.get_layer('fc1').output)"
   ]
  },
  {
   "cell_type": "code",
   "execution_count": 3,
   "metadata": {},
   "outputs": [
    {
     "name": "stdout",
     "output_type": "stream",
     "text": [
      "Found 5000 images belonging to 2 classes.\n"
     ]
    }
   ],
   "source": [
    "data_dir = '/home/sage/ml_playground/catsvsdogs/PetImages/tsne'\n",
    "img_width, img_height = 224, 224\n",
    "\n",
    "imgs_generator = ImageDataGenerator().flow_from_directory(directory=data_dir,\n",
    "                                                              target_size=[img_width, img_height],\n",
    "                                                              batch_size=1,\n",
    "                                                              shuffle=False,\n",
    "                                                              class_mode='categorical')"
   ]
  },
  {
   "cell_type": "code",
   "execution_count": 4,
   "metadata": {},
   "outputs": [
    {
     "name": "stderr",
     "output_type": "stream",
     "text": [
      "100%|██████████| 5000/5000 [10:58<00:00,  7.59it/s]\n"
     ]
    }
   ],
   "source": [
    "from tqdm import tqdm\n",
    "\n",
    "n_imgs = 5000\n",
    "\n",
    "filenames = []\n",
    "vectors = []\n",
    "samples = []\n",
    "\n",
    "for i in tqdm(range(n_imgs)):\n",
    "    sample, _ = next(imgs_generator)\n",
    "    filename = imgs_generator.filenames[imgs_generator.batch_index - 1]\n",
    "    filenames.append(filename)\n",
    "    vectors.append(headless_model.predict(sample)[0])"
   ]
  },
  {
   "cell_type": "code",
   "execution_count": 6,
   "metadata": {},
   "outputs": [],
   "source": [
    "filenames_and_vectors = {}\n",
    "filenames_and_vectors['files'] = np.asarray(filenames)\n",
    "filenames_and_vectors['data'] = np.asarray(vectors)"
   ]
  },
  {
   "cell_type": "code",
   "execution_count": 7,
   "metadata": {},
   "outputs": [],
   "source": [
    "from pickle import dump\n",
    "\n",
    "with open('/home/sage/ml_playground/catsvsdogs/trained/keras/filenames_and_vectors.pkl', 'wb') as f:\n",
    "    dump(filenames_and_vectors, f)"
   ]
  }
 ],
 "metadata": {
  "kernelspec": {
   "display_name": "Python 3",
   "language": "python",
   "name": "python3"
  },
  "language_info": {
   "codemirror_mode": {
    "name": "ipython",
    "version": 3
   },
   "file_extension": ".py",
   "mimetype": "text/x-python",
   "name": "python",
   "nbconvert_exporter": "python",
   "pygments_lexer": "ipython3",
   "version": "3.5.2"
  }
 },
 "nbformat": 4,
 "nbformat_minor": 2
}
